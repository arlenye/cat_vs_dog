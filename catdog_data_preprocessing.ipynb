{
 "cells": [
  {
   "cell_type": "markdown",
   "metadata": {},
   "source": [
    "# 猫狗大战 数据预处理"
   ]
  },
  {
   "cell_type": "markdown",
   "metadata": {},
   "source": [
    "# 数据下载\n"
   ]
  },
  {
   "cell_type": "code",
   "execution_count": null,
   "metadata": {},
   "outputs": [],
   "source": [
    "from urllib.request import urlretrieve\n",
    "from os import path.isfile, path.isdir, mkdir\n",
    "from tqdm import tqdm\n",
    "import problem_unittests as tests\n",
    "import zipfile\n",
    "\n",
    "# 定义进度条\n",
    "class DLProgress(tqdm):\n",
    "    last_block = 0\n",
    "\n",
    "    def hook(self, block_num=1, block_size=1, total_size=None):\n",
    "        self.total = total_size\n",
    "        self.update((block_num - self.last_block) * block_size)\n",
    "        self.last_block = block_num\n",
    "# 解压公共方法        \n",
    "def un_zip(file_name):\n",
    "    \"\"\"unzip zip file\"\"\"\n",
    "    zip_file = zipfile.ZipFile(file_name)\n",
    "    if  isdir(file_name + \"_files\"):\n",
    "        pass\n",
    "    else:\n",
    "        mkdir(file_name + \"_files\")\n",
    "    for names in zip_file.namelist():\n",
    "        zip_file.extract(names,file_name + \"_files/\")\n",
    "    zip_file.close()\n",
    "\n"
   ]
  },
  {
   "cell_type": "code",
   "execution_count": null,
   "metadata": {},
   "outputs": [],
   "source": [
    "# train pricture unzip path\n",
    "train_folder_path = 'train.zip_files'\n",
    "\n",
    "# train zip data file name\n",
    "train_zip_file = 'train.zip'\n",
    "\n",
    "if not isfile(train_zip_file):\n",
    "    with DLProgress(unit='B', unit_scale=True, miniters=1, desc='train data') as pbar:\n",
    "        urlretrieve(\n",
    "            'https://www.kaggle.com/c/5441/download/train.zip',\n",
    "            train_zip_path,\n",
    "            pbar.hook)\n",
    "\n",
    "print('retrieve train.zip success')\n",
    "if not isdir(train_folder_path):\n",
    "    un_zip(train_zip_file)\n",
    "print('unzip train.zip success')"
   ]
  },
  {
   "cell_type": "code",
   "execution_count": null,
   "metadata": {},
   "outputs": [],
   "source": [
    "# test pricture unzip path\n",
    "test_folder_path = 'test.zip_files'\n",
    "\n",
    "# test zip data file name\n",
    "test_zip_file = 'train.zip'\n",
    "\n",
    "if not isfile(test_zip_file):\n",
    "    with DLProgress(unit='B', unit_scale=True, miniters=1, desc='test data') as pbar:\n",
    "        urlretrieve(\n",
    "            'https://www.kaggle.com/c/5441/download/test.zip',\n",
    "            test_zip_path,\n",
    "            pbar.hook)\n",
    "print('retrieve test.zip success')\n",
    "if not isdir(test_folder_path):\n",
    "    un_zip(test_zip_file)\n",
    "print('unzip test.zip success')\n",
    "    \n"
   ]
  },
  {
   "cell_type": "code",
   "execution_count": null,
   "metadata": {},
   "outputs": [],
   "source": []
  }
 ],
 "metadata": {
  "kernelspec": {
   "display_name": "Python 3",
   "language": "python",
   "name": "python3"
  },
  "language_info": {
   "codemirror_mode": {
    "name": "ipython",
    "version": 3
   },
   "file_extension": ".py",
   "mimetype": "text/x-python",
   "name": "python",
   "nbconvert_exporter": "python",
   "pygments_lexer": "ipython3",
   "version": "3.5.4"
  }
 },
 "nbformat": 4,
 "nbformat_minor": 2
}
